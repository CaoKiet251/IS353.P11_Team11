{
 "cells": [
  {
   "cell_type": "code",
   "execution_count": 1,
   "metadata": {},
   "outputs": [],
   "source": [
    "import numpy as np\n",
    "import pandas as pd\n",
    "\n",
    "train_data = pd.read_csv(\"train_set.csv\", index_col=None)\n",
    "test_data = pd.read_csv(\"test_set.csv\", index_col=None)"
   ]
  },
  {
   "cell_type": "code",
   "execution_count": 2,
   "metadata": {},
   "outputs": [],
   "source": [
    "train_data.drop(columns=['Unnamed: 0'], inplace=True)\n",
    "test_data.drop(columns=['Unnamed: 0'], inplace=True)"
   ]
  },
  {
   "cell_type": "code",
   "execution_count": 3,
   "metadata": {},
   "outputs": [],
   "source": [
    "train_log = pd.read_csv(\"raw_data/test_log.csv\", index_col=None)\n",
    "train_log.drop(columns=['session_id', 'action', 'object', 'time', 'username'], inplace=True)\n",
    "train_log.drop_duplicates(inplace=True)\n",
    "\n",
    "test_log = pd.read_csv(\"raw_data/test_log.csv\", index_col=None)\n",
    "test_log.drop(columns=['session_id', 'action', 'object', 'time', 'username'], inplace=True)\n",
    "test_log.drop_duplicates(inplace=True)"
   ]
  },
  {
   "cell_type": "code",
   "execution_count": 4,
   "metadata": {},
   "outputs": [],
   "source": [
    "train_data.sort_values(by='enroll_id', inplace=True)\n",
    "test_data.sort_values(by='enroll_id', inplace=True)"
   ]
  },
  {
   "cell_type": "code",
   "execution_count": 5,
   "metadata": {},
   "outputs": [],
   "source": [
    "log = pd.concat([test_log, train_log], ignore_index=True)\n",
    "temp_test_data = test_data.copy()\n",
    "temp_test_data['truth'] = -1\n",
    "user_data = pd.concat([train_data, temp_test_data], ignore_index=True)"
   ]
  },
  {
   "cell_type": "code",
   "execution_count": 6,
   "metadata": {},
   "outputs": [],
   "source": [
    "index_count = 0\n",
    "key_nodes = {}\n",
    "\n",
    "train_key_nodes = {}\n",
    "for i in train_data['enroll_id'].values:\n",
    "    if i not in train_key_nodes:\n",
    "        train_key_nodes[i] = index_count\n",
    "        key_nodes[i] = index_count\n",
    "        index_count += 1\n",
    "\n",
    "test_key_nodes = {}\n",
    "for i in test_data['enroll_id'].values:\n",
    "    if i not in train_key_nodes:\n",
    "        test_key_nodes[i] = index_count\n",
    "        key_nodes[i] = index_count\n",
    "        index_count += 1"
   ]
  },
  {
   "cell_type": "code",
   "execution_count": 7,
   "metadata": {},
   "outputs": [],
   "source": [
    "import torch\n",
    "from torch_geometric.data import Data\n",
    "from torch_geometric.nn import GCNConv\n",
    "import torch.nn.functional as F\n",
    "\n",
    "\n",
    "# Tìm các cặp enroll_id học chung ít nhất một course\n",
    "course_groups = log.groupby(\"course_id\")[\"enroll_id\"].apply(list)"
   ]
  },
  {
   "cell_type": "code",
   "execution_count": 8,
   "metadata": {},
   "outputs": [],
   "source": [
    "# Tạo danh sách các cạnh (source_nodes và target_nodes)\n",
    "edges = []\n",
    "for enroll_ids in course_groups:\n",
    "    # Nếu có từ 2 enroll_id trở lên, tạo các cặp\n",
    "    if len(enroll_ids) > 1:\n",
    "        for i in range(len(enroll_ids)):\n",
    "            for j in range(i + 1, len(enroll_ids)):\n",
    "                edges.append((enroll_ids[i], enroll_ids[j]))\n",
    "\n",
    "# Chuyển edges thành source_nodes và target_nodes\n",
    "source_nodes, target_nodes = zip(*edges)"
   ]
  },
  {
   "cell_type": "code",
   "execution_count": 9,
   "metadata": {},
   "outputs": [],
   "source": [
    "source_nodes = [key_nodes[i] for i in source_nodes]\n",
    "target_nodes = [key_nodes[i] for i in target_nodes]"
   ]
  },
  {
   "cell_type": "code",
   "execution_count": 10,
   "metadata": {},
   "outputs": [],
   "source": [
    "edge_index = torch.tensor([source_nodes, \n",
    "                           target_nodes], dtype=torch.long)"
   ]
  },
  {
   "cell_type": "code",
   "execution_count": 11,
   "metadata": {},
   "outputs": [
    {
     "data": {
      "text/plain": [
       "60129559"
      ]
     },
     "execution_count": 11,
     "metadata": {},
     "output_type": "execute_result"
    }
   ],
   "source": [
    "len(source_nodes)"
   ]
  },
  {
   "cell_type": "code",
   "execution_count": 12,
   "metadata": {},
   "outputs": [],
   "source": [
    "node_labels = torch.tensor(user_data['truth'].values, dtype=torch.float)"
   ]
  },
  {
   "cell_type": "code",
   "execution_count": 13,
   "metadata": {},
   "outputs": [
    {
     "data": {
      "text/plain": [
       "225642"
      ]
     },
     "execution_count": 13,
     "metadata": {},
     "output_type": "execute_result"
    }
   ],
   "source": [
    "len(node_labels)"
   ]
  },
  {
   "cell_type": "code",
   "execution_count": 14,
   "metadata": {},
   "outputs": [],
   "source": [
    "node_features = torch.tensor(user_data.drop(columns=['truth', 'enroll_id']).values, dtype=torch.float)"
   ]
  },
  {
   "cell_type": "code",
   "execution_count": 15,
   "metadata": {},
   "outputs": [
    {
     "data": {
      "text/plain": [
       "10"
      ]
     },
     "execution_count": 15,
     "metadata": {},
     "output_type": "execute_result"
    }
   ],
   "source": [
    "len(node_features[0])"
   ]
  },
  {
   "cell_type": "code",
   "execution_count": 16,
   "metadata": {},
   "outputs": [],
   "source": [
    "data = Data(x=node_features, edge_index=edge_index, y=node_labels)"
   ]
  },
  {
   "cell_type": "markdown",
   "metadata": {},
   "source": [
    "# Huấn luyện mô hình"
   ]
  },
  {
   "cell_type": "code",
   "execution_count": 17,
   "metadata": {},
   "outputs": [],
   "source": [
    "class GNNClassifier(torch.nn.Module):\n",
    "    def __init__(self, input_dim, hidden_dim):\n",
    "        super(GNNClassifier, self).__init__()\n",
    "        self.conv1 = GCNConv(input_dim, hidden_dim)\n",
    "        self.conv2 = GCNConv(hidden_dim, 1)  # 1 output cho nhãn nhị phân\n",
    "\n",
    "    def forward(self, data):\n",
    "        x, edge_index = data.x, data.edge_index\n",
    "        x = self.conv1(x, edge_index)\n",
    "        x = F.relu(x)\n",
    "        x = self.conv2(x, edge_index)\n",
    "        return torch.sigmoid(x)  # Xác suất nhãn 1"
   ]
  },
  {
   "cell_type": "code",
   "execution_count": 18,
   "metadata": {},
   "outputs": [],
   "source": [
    "train_mask = data.y != -1"
   ]
  },
  {
   "cell_type": "code",
   "execution_count": 19,
   "metadata": {},
   "outputs": [
    {
     "data": {
      "text/plain": [
       "tensor([ True,  True,  True,  ..., False, False, False])"
      ]
     },
     "execution_count": 19,
     "metadata": {},
     "output_type": "execute_result"
    }
   ],
   "source": [
    "train_mask"
   ]
  },
  {
   "cell_type": "code",
   "execution_count": 20,
   "metadata": {},
   "outputs": [
    {
     "data": {
      "text/plain": [
       "225642"
      ]
     },
     "execution_count": 20,
     "metadata": {},
     "output_type": "execute_result"
    }
   ],
   "source": [
    "train_mask\n",
    "len(train_mask)"
   ]
  },
  {
   "cell_type": "code",
   "execution_count": 21,
   "metadata": {},
   "outputs": [
    {
     "data": {
      "text/plain": [
       "10"
      ]
     },
     "execution_count": 21,
     "metadata": {},
     "output_type": "execute_result"
    }
   ],
   "source": [
    "len(data.x[0])"
   ]
  },
  {
   "cell_type": "code",
   "execution_count": 22,
   "metadata": {},
   "outputs": [
    {
     "name": "stdout",
     "output_type": "stream",
     "text": [
      "Epoch 20, Loss: 3.1225\n",
      "Epoch 40, Loss: 0.8000\n",
      "Epoch 60, Loss: 0.5740\n",
      "Epoch 80, Loss: 0.4913\n",
      "Epoch 100, Loss: 0.4822\n",
      "Epoch 120, Loss: 0.4736\n",
      "Epoch 140, Loss: 0.4659\n",
      "Epoch 160, Loss: 0.4595\n",
      "Epoch 180, Loss: 0.4538\n",
      "Epoch 200, Loss: 0.4482\n"
     ]
    }
   ],
   "source": [
    "# Khởi tạo mô hình\n",
    "model = GNNClassifier(input_dim=10, hidden_dim=4)\n",
    "optimizer = torch.optim.Adam(model.parameters(), lr=0.01)\n",
    "loss_fn = torch.nn.BCELoss()  # Binary Cross-Entropy Loss\n",
    "\n",
    "# Tách node chưa nhãn ra khỏi tập huấn luyện\n",
    "train_mask = data.y != -1  # Chỉ dùng node có nhãn để huấn luyện\n",
    "\n",
    "# Huấn luyện mô hình\n",
    "for epoch in range(200):\n",
    "    model.train()\n",
    "    optimizer.zero_grad()\n",
    "    out = model(data).squeeze()\n",
    "    loss = loss_fn(out[train_mask], data.y[train_mask])  # Chỉ tính loss trên node có nhãn\n",
    "    loss.backward()\n",
    "    optimizer.step()\n",
    "\n",
    "    if (epoch + 1) % 20 == 0:\n",
    "        print(f\"Epoch {epoch+1}, Loss: {loss.item():.4f}\")"
   ]
  },
  {
   "cell_type": "code",
   "execution_count": 23,
   "metadata": {},
   "outputs": [],
   "source": [
    "# Đặt mô hình ở chế độ dự đoán\n",
    "model.eval()\n",
    "predictions = model(data).squeeze()\n"
   ]
  },
  {
   "cell_type": "code",
   "execution_count": 24,
   "metadata": {},
   "outputs": [],
   "source": [
    "# Dự đoán nhãn (0 hoặc 1) của node mới\n",
    "new_node_probability = predictions[-67699:]"
   ]
  },
  {
   "cell_type": "code",
   "execution_count": 25,
   "metadata": {},
   "outputs": [
    {
     "data": {
      "text/plain": [
       "tensor([0.7271, 0.7276, 0.7280,  ..., 0.9041, 0.9047, 0.9052],\n",
       "       grad_fn=<SliceBackward0>)"
      ]
     },
     "execution_count": 25,
     "metadata": {},
     "output_type": "execute_result"
    }
   ],
   "source": [
    "new_node_probability"
   ]
  },
  {
   "cell_type": "code",
   "execution_count": 26,
   "metadata": {},
   "outputs": [
    {
     "data": {
      "text/plain": [
       "array([1, 1, 1, ..., 1, 1, 1])"
      ]
     },
     "execution_count": 26,
     "metadata": {},
     "output_type": "execute_result"
    }
   ],
   "source": [
    "numpy_array = new_node_probability.detach().numpy()\n",
    "\n",
    "result = (numpy_array >= 0.5).astype(int)\n",
    "result"
   ]
  },
  {
   "cell_type": "code",
   "execution_count": 27,
   "metadata": {},
   "outputs": [
    {
     "name": "stdout",
     "output_type": "stream",
     "text": [
      "Accuracy: 0.73\n"
     ]
    }
   ],
   "source": [
    "from sklearn.metrics import accuracy_score\n",
    "\n",
    "accuracy = accuracy_score(test_data['truth'].values.ravel(), result)\n",
    "\n",
    "print(f\"Accuracy: {accuracy:.2f}\")"
   ]
  },
  {
   "cell_type": "code",
   "execution_count": 28,
   "metadata": {},
   "outputs": [
    {
     "name": "stdout",
     "output_type": "stream",
     "text": [
      "Classification Report:\n",
      "              precision    recall  f1-score   support\n",
      "\n",
      "           0       0.44      0.41      0.43     16383\n",
      "           1       0.82      0.84      0.83     51316\n",
      "\n",
      "    accuracy                           0.73     67699\n",
      "   macro avg       0.63      0.62      0.63     67699\n",
      "weighted avg       0.73      0.73      0.73     67699\n",
      "\n"
     ]
    }
   ],
   "source": [
    "from sklearn.metrics import classification_report\n",
    "\n",
    "# Tạo classification report\n",
    "report = classification_report(test_data['truth'].values.ravel(), result)\n",
    "\n",
    "print(\"Classification Report:\")\n",
    "print(report)"
   ]
  },
  {
   "cell_type": "code",
   "execution_count": 29,
   "metadata": {},
   "outputs": [
    {
     "data": {
      "text/plain": [
       "60129559"
      ]
     },
     "execution_count": 29,
     "metadata": {},
     "output_type": "execute_result"
    }
   ],
   "source": [
    "data.num_edges"
   ]
  },
  {
   "cell_type": "code",
   "execution_count": 30,
   "metadata": {},
   "outputs": [
    {
     "data": {
      "text/plain": [
       "225642"
      ]
     },
     "execution_count": 30,
     "metadata": {},
     "output_type": "execute_result"
    }
   ],
   "source": [
    "data.num_nodes"
   ]
  },
  {
   "cell_type": "code",
   "execution_count": 31,
   "metadata": {},
   "outputs": [
    {
     "data": {
      "text/plain": [
       "225642"
      ]
     },
     "execution_count": 31,
     "metadata": {},
     "output_type": "execute_result"
    }
   ],
   "source": [
    "len(user_data)"
   ]
  },
  {
   "cell_type": "code",
   "execution_count": 32,
   "metadata": {},
   "outputs": [
    {
     "data": {
      "image/png": "[encoded data removed]",
      "text/plain": [
       "<Figure size 800x500 with 1 Axes>"
      ]
     },
     "metadata": {},
     "output_type": "display_data"
    }
   ],
   "source": [
    "import numpy as np\n",
    "import matplotlib.pyplot as plt\n",
    "\n",
    "# Plot dữ liệu\n",
    "plt.figure(figsize=(8, 5))\n",
    "plt.plot(numpy_array, marker='o', linestyle='-', color='b', label='Values')\n",
    "plt.axhline(y=0.5, color='r', linestyle='--', label='Threshold (0.5)')\n",
    "plt.title('Visualization of numpy_array')\n",
    "plt.xlabel('Index')\n",
    "plt.ylabel('Value')\n",
    "plt.legend()\n",
    "plt.grid(True)\n",
    "plt.show()"
   ]
  },
  {
   "cell_type": "code",
   "execution_count": 33,
   "metadata": {},
   "outputs": [
    {
     "data": {
      "text/html": [
       "<div>\n",
       "<style scoped>\n",
       "    .dataframe tbody tr th:only-of-type {\n",
       "        vertical-align: middle;\n",
       "    }\n",
       "\n",
       "    .dataframe tbody tr th {\n",
       "        vertical-align: top;\n",
       "    }\n",
       "\n",
       "    .dataframe thead th {\n",
       "        text-align: right;\n",
       "    }\n",
       "</style>\n",
       "<table border=\"1\" class=\"dataframe\">\n",
       "  <thead>\n",
       "    <tr style=\"text-align: right;\">\n",
       "      <th></th>\n",
       "      <th>enroll_id</th>\n",
       "      <th>course_id</th>\n",
       "    </tr>\n",
       "  </thead>\n",
       "  <tbody>\n",
       "    <tr>\n",
       "      <th>0</th>\n",
       "      <td>775</td>\n",
       "      <td>course-v1:TsinghuaX+70800232X+2015_T2</td>\n",
       "    </tr>\n",
       "    <tr>\n",
       "      <th>1</th>\n",
       "      <td>778</td>\n",
       "      <td>course-v1:TsinghuaX+70800232X+2015_T2</td>\n",
       "    </tr>\n",
       "    <tr>\n",
       "      <th>2</th>\n",
       "      <td>784</td>\n",
       "      <td>course-v1:TsinghuaX+70800232X+2015_T2</td>\n",
       "    </tr>\n",
       "    <tr>\n",
       "      <th>3</th>\n",
       "      <td>788</td>\n",
       "      <td>course-v1:TsinghuaX+70800232X+2015_T2</td>\n",
       "    </tr>\n",
       "    <tr>\n",
       "      <th>4</th>\n",
       "      <td>797</td>\n",
       "      <td>course-v1:TsinghuaX+70800232X+2015_T2</td>\n",
       "    </tr>\n",
       "    <tr>\n",
       "      <th>...</th>\n",
       "      <td>...</td>\n",
       "      <td>...</td>\n",
       "    </tr>\n",
       "    <tr>\n",
       "      <th>135393</th>\n",
       "      <td>466770</td>\n",
       "      <td>course-v1:TsinghuaX+AP000001X+2016_T1</td>\n",
       "    </tr>\n",
       "    <tr>\n",
       "      <th>135394</th>\n",
       "      <td>466775</td>\n",
       "      <td>course-v1:TsinghuaX+AP000001X+2016_T1</td>\n",
       "    </tr>\n",
       "    <tr>\n",
       "      <th>135395</th>\n",
       "      <td>466777</td>\n",
       "      <td>course-v1:TsinghuaX+AP000001X+2016_T1</td>\n",
       "    </tr>\n",
       "    <tr>\n",
       "      <th>135396</th>\n",
       "      <td>466783</td>\n",
       "      <td>course-v1:TsinghuaX+AP000001X+2016_T1</td>\n",
       "    </tr>\n",
       "    <tr>\n",
       "      <th>135397</th>\n",
       "      <td>466785</td>\n",
       "      <td>course-v1:TsinghuaX+AP000001X+2016_T1</td>\n",
       "    </tr>\n",
       "  </tbody>\n",
       "</table>\n",
       "<p>135398 rows × 2 columns</p>\n",
       "</div>"
      ],
      "text/plain": [
       "        enroll_id                              course_id\n",
       "0             775  course-v1:TsinghuaX+70800232X+2015_T2\n",
       "1             778  course-v1:TsinghuaX+70800232X+2015_T2\n",
       "2             784  course-v1:TsinghuaX+70800232X+2015_T2\n",
       "3             788  course-v1:TsinghuaX+70800232X+2015_T2\n",
       "4             797  course-v1:TsinghuaX+70800232X+2015_T2\n",
       "...           ...                                    ...\n",
       "135393     466770  course-v1:TsinghuaX+AP000001X+2016_T1\n",
       "135394     466775  course-v1:TsinghuaX+AP000001X+2016_T1\n",
       "135395     466777  course-v1:TsinghuaX+AP000001X+2016_T1\n",
       "135396     466783  course-v1:TsinghuaX+AP000001X+2016_T1\n",
       "135397     466785  course-v1:TsinghuaX+AP000001X+2016_T1\n",
       "\n",
       "[135398 rows x 2 columns]"
      ]
     },
     "execution_count": 33,
     "metadata": {},
     "output_type": "execute_result"
    }
   ],
   "source": [
    "log"
   ]
  },
  {
   "cell_type": "code",
   "execution_count": 36,
   "metadata": {},
   "outputs": [
    {
     "data": {
      "text/html": [
       "<div>\n",
       "<style scoped>\n",
       "    .dataframe tbody tr th:only-of-type {\n",
       "        vertical-align: middle;\n",
       "    }\n",
       "\n",
       "    .dataframe tbody tr th {\n",
       "        vertical-align: top;\n",
       "    }\n",
       "\n",
       "    .dataframe thead th {\n",
       "        text-align: right;\n",
       "    }\n",
       "</style>\n",
       "<table border=\"1\" class=\"dataframe\">\n",
       "  <thead>\n",
       "    <tr style=\"text-align: right;\">\n",
       "      <th></th>\n",
       "      <th>enroll_id</th>\n",
       "      <th>gender</th>\n",
       "      <th>education</th>\n",
       "      <th>age</th>\n",
       "      <th>prev_dropout_num</th>\n",
       "      <th>previous_enroll_num</th>\n",
       "      <th>previous_dropout_user_num</th>\n",
       "      <th>duration</th>\n",
       "      <th>session_num</th>\n",
       "      <th>video_num</th>\n",
       "      <th>courseware_num</th>\n",
       "      <th>truth</th>\n",
       "    </tr>\n",
       "  </thead>\n",
       "  <tbody>\n",
       "    <tr>\n",
       "      <th>0</th>\n",
       "      <td>772</td>\n",
       "      <td>0</td>\n",
       "      <td>1</td>\n",
       "      <td>26.0</td>\n",
       "      <td>1</td>\n",
       "      <td>25</td>\n",
       "      <td>25</td>\n",
       "      <td>103</td>\n",
       "      <td>1</td>\n",
       "      <td>0</td>\n",
       "      <td>0</td>\n",
       "      <td>1</td>\n",
       "    </tr>\n",
       "    <tr>\n",
       "      <th>1</th>\n",
       "      <td>773</td>\n",
       "      <td>1</td>\n",
       "      <td>0</td>\n",
       "      <td>18.0</td>\n",
       "      <td>1</td>\n",
       "      <td>561</td>\n",
       "      <td>523</td>\n",
       "      <td>103</td>\n",
       "      <td>1</td>\n",
       "      <td>14</td>\n",
       "      <td>3</td>\n",
       "      <td>1</td>\n",
       "    </tr>\n",
       "    <tr>\n",
       "      <th>2</th>\n",
       "      <td>774</td>\n",
       "      <td>0</td>\n",
       "      <td>0</td>\n",
       "      <td>18.0</td>\n",
       "      <td>1</td>\n",
       "      <td>850</td>\n",
       "      <td>711</td>\n",
       "      <td>103</td>\n",
       "      <td>3</td>\n",
       "      <td>42</td>\n",
       "      <td>26</td>\n",
       "      <td>1</td>\n",
       "    </tr>\n",
       "    <tr>\n",
       "      <th>3</th>\n",
       "      <td>776</td>\n",
       "      <td>1</td>\n",
       "      <td>3</td>\n",
       "      <td>34.0</td>\n",
       "      <td>1</td>\n",
       "      <td>716</td>\n",
       "      <td>637</td>\n",
       "      <td>103</td>\n",
       "      <td>1</td>\n",
       "      <td>9</td>\n",
       "      <td>6</td>\n",
       "      <td>0</td>\n",
       "    </tr>\n",
       "    <tr>\n",
       "      <th>4</th>\n",
       "      <td>777</td>\n",
       "      <td>0</td>\n",
       "      <td>0</td>\n",
       "      <td>18.0</td>\n",
       "      <td>1</td>\n",
       "      <td>223</td>\n",
       "      <td>212</td>\n",
       "      <td>103</td>\n",
       "      <td>1</td>\n",
       "      <td>0</td>\n",
       "      <td>2</td>\n",
       "      <td>1</td>\n",
       "    </tr>\n",
       "    <tr>\n",
       "      <th>...</th>\n",
       "      <td>...</td>\n",
       "      <td>...</td>\n",
       "      <td>...</td>\n",
       "      <td>...</td>\n",
       "      <td>...</td>\n",
       "      <td>...</td>\n",
       "      <td>...</td>\n",
       "      <td>...</td>\n",
       "      <td>...</td>\n",
       "      <td>...</td>\n",
       "      <td>...</td>\n",
       "      <td>...</td>\n",
       "    </tr>\n",
       "    <tr>\n",
       "      <th>225637</th>\n",
       "      <td>466770</td>\n",
       "      <td>1</td>\n",
       "      <td>0</td>\n",
       "      <td>19.0</td>\n",
       "      <td>1</td>\n",
       "      <td>20</td>\n",
       "      <td>20</td>\n",
       "      <td>120</td>\n",
       "      <td>2</td>\n",
       "      <td>33</td>\n",
       "      <td>9</td>\n",
       "      <td>-1</td>\n",
       "    </tr>\n",
       "    <tr>\n",
       "      <th>225638</th>\n",
       "      <td>466775</td>\n",
       "      <td>0</td>\n",
       "      <td>0</td>\n",
       "      <td>19.0</td>\n",
       "      <td>0</td>\n",
       "      <td>8</td>\n",
       "      <td>8</td>\n",
       "      <td>120</td>\n",
       "      <td>2</td>\n",
       "      <td>0</td>\n",
       "      <td>2</td>\n",
       "      <td>-1</td>\n",
       "    </tr>\n",
       "    <tr>\n",
       "      <th>225639</th>\n",
       "      <td>466777</td>\n",
       "      <td>0</td>\n",
       "      <td>0</td>\n",
       "      <td>16.0</td>\n",
       "      <td>0</td>\n",
       "      <td>22</td>\n",
       "      <td>22</td>\n",
       "      <td>120</td>\n",
       "      <td>2</td>\n",
       "      <td>6</td>\n",
       "      <td>6</td>\n",
       "      <td>-1</td>\n",
       "    </tr>\n",
       "    <tr>\n",
       "      <th>225640</th>\n",
       "      <td>466783</td>\n",
       "      <td>1</td>\n",
       "      <td>0</td>\n",
       "      <td>19.0</td>\n",
       "      <td>0</td>\n",
       "      <td>1</td>\n",
       "      <td>1</td>\n",
       "      <td>120</td>\n",
       "      <td>1</td>\n",
       "      <td>0</td>\n",
       "      <td>0</td>\n",
       "      <td>-1</td>\n",
       "    </tr>\n",
       "    <tr>\n",
       "      <th>225641</th>\n",
       "      <td>466785</td>\n",
       "      <td>0</td>\n",
       "      <td>0</td>\n",
       "      <td>19.0</td>\n",
       "      <td>0</td>\n",
       "      <td>37</td>\n",
       "      <td>34</td>\n",
       "      <td>120</td>\n",
       "      <td>2</td>\n",
       "      <td>9</td>\n",
       "      <td>6</td>\n",
       "      <td>-1</td>\n",
       "    </tr>\n",
       "  </tbody>\n",
       "</table>\n",
       "<p>225642 rows × 12 columns</p>\n",
       "</div>"
      ],
      "text/plain": [
       "        enroll_id  gender  education   age  prev_dropout_num  \\\n",
       "0             772       0          1  26.0                 1   \n",
       "1             773       1          0  18.0                 1   \n",
       "2             774       0          0  18.0                 1   \n",
       "3             776       1          3  34.0                 1   \n",
       "4             777       0          0  18.0                 1   \n",
       "...           ...     ...        ...   ...               ...   \n",
       "225637     466770       1          0  19.0                 1   \n",
       "225638     466775       0          0  19.0                 0   \n",
       "225639     466777       0          0  16.0                 0   \n",
       "225640     466783       1          0  19.0                 0   \n",
       "225641     466785       0          0  19.0                 0   \n",
       "\n",
       "        previous_enroll_num  previous_dropout_user_num  duration  session_num  \\\n",
       "0                        25                         25       103            1   \n",
       "1                       561                        523       103            1   \n",
       "2                       850                        711       103            3   \n",
       "3                       716                        637       103            1   \n",
       "4                       223                        212       103            1   \n",
       "...                     ...                        ...       ...          ...   \n",
       "225637                   20                         20       120            2   \n",
       "225638                    8                          8       120            2   \n",
       "225639                   22                         22       120            2   \n",
       "225640                    1                          1       120            1   \n",
       "225641                   37                         34       120            2   \n",
       "\n",
       "        video_num  courseware_num  truth  \n",
       "0               0               0      1  \n",
       "1              14               3      1  \n",
       "2              42              26      1  \n",
       "3               9               6      0  \n",
       "4               0               2      1  \n",
       "...           ...             ...    ...  \n",
       "225637         33               9     -1  \n",
       "225638          0               2     -1  \n",
       "225639          6               6     -1  \n",
       "225640          0               0     -1  \n",
       "225641          9               6     -1  \n",
       "\n",
       "[225642 rows x 12 columns]"
      ]
     },
     "execution_count": 36,
     "metadata": {},
     "output_type": "execute_result"
    }
   ],
   "source": [
    "user_data"
   ]
  },
  {
   "cell_type": "code",
   "execution_count": 34,
   "metadata": {},
   "outputs": [
    {
     "data": {
      "text/plain": [
       "Index(['gender', 'education', 'age', 'prev_dropout_num', 'previous_enroll_num',\n",
       "       'previous_dropout_user_num', 'duration', 'session_num', 'video_num',\n",
       "       'courseware_num'],\n",
       "      dtype='object')"
      ]
     },
     "execution_count": 34,
     "metadata": {},
     "output_type": "execute_result"
    }
   ],
   "source": [
    "user_data.drop(columns=['truth', 'enroll_id']).columns"
   ]
  },
  {
   "cell_type": "code",
   "execution_count": 35,
   "metadata": {},
   "outputs": [
    {
     "name": "stdout",
     "output_type": "stream",
     "text": [
      "Thông tin cơ bản về đồ thị:\n",
      "Data(x=[225642, 10], edge_index=[2, 60129559], y=[225642])\n",
      "\n",
      "Số lượng nút: 225642\n",
      "Số cạnh: 60129559\n",
      "Danh sách các cạnh:\n",
      "tensor([[172031, 172031, 172031,  ..., 220160, 220160, 220161],\n",
      "        [172032, 172033, 172034,  ..., 220161, 220162, 220162]])\n",
      "\n",
      "Nhãn của các node (y):\n",
      "tensor([ 1.,  1.,  1.,  ..., -1., -1., -1.])\n",
      "Đồ thị có hướng không? True\n"
     ]
    }
   ],
   "source": [
    "# In thông tin của đồ thị\n",
    "print(\"Thông tin cơ bản về đồ thị:\")\n",
    "print(data)\n",
    "\n",
    "# Truy cập thông tin chi tiết\n",
    "print(\"\\nSố lượng nút:\", data.num_nodes)\n",
    "print(\"Số cạnh:\", data.num_edges)\n",
    "print(\"Danh sách các cạnh:\")\n",
    "print(data.edge_index)\n",
    "\n",
    "print(\"\\nNhãn của các node (y):\")\n",
    "print(data.y)\n",
    "\n",
    "print(\"Đồ thị có hướng không?\", data.is_directed())"
   ]
  },
  {
   "cell_type": "code",
   "execution_count": 37,
   "metadata": {},
   "outputs": [
    {
     "data": {
      "text/html": [
       "<div>\n",
       "<style scoped>\n",
       "    .dataframe tbody tr th:only-of-type {\n",
       "        vertical-align: middle;\n",
       "    }\n",
       "\n",
       "    .dataframe tbody tr th {\n",
       "        vertical-align: top;\n",
       "    }\n",
       "\n",
       "    .dataframe thead th {\n",
       "        text-align: right;\n",
       "    }\n",
       "</style>\n",
       "<table border=\"1\" class=\"dataframe\">\n",
       "  <thead>\n",
       "    <tr style=\"text-align: right;\">\n",
       "      <th></th>\n",
       "      <th>enroll_id</th>\n",
       "      <th>truth</th>\n",
       "    </tr>\n",
       "  </thead>\n",
       "  <tbody>\n",
       "    <tr>\n",
       "      <th>0</th>\n",
       "      <td>772</td>\n",
       "      <td>1</td>\n",
       "    </tr>\n",
       "    <tr>\n",
       "      <th>1</th>\n",
       "      <td>773</td>\n",
       "      <td>1</td>\n",
       "    </tr>\n",
       "    <tr>\n",
       "      <th>2</th>\n",
       "      <td>774</td>\n",
       "      <td>1</td>\n",
       "    </tr>\n",
       "    <tr>\n",
       "      <th>3</th>\n",
       "      <td>776</td>\n",
       "      <td>0</td>\n",
       "    </tr>\n",
       "    <tr>\n",
       "      <th>4</th>\n",
       "      <td>777</td>\n",
       "      <td>1</td>\n",
       "    </tr>\n",
       "    <tr>\n",
       "      <th>...</th>\n",
       "      <td>...</td>\n",
       "      <td>...</td>\n",
       "    </tr>\n",
       "    <tr>\n",
       "      <th>225637</th>\n",
       "      <td>466770</td>\n",
       "      <td>-1</td>\n",
       "    </tr>\n",
       "    <tr>\n",
       "      <th>225638</th>\n",
       "      <td>466775</td>\n",
       "      <td>-1</td>\n",
       "    </tr>\n",
       "    <tr>\n",
       "      <th>225639</th>\n",
       "      <td>466777</td>\n",
       "      <td>-1</td>\n",
       "    </tr>\n",
       "    <tr>\n",
       "      <th>225640</th>\n",
       "      <td>466783</td>\n",
       "      <td>-1</td>\n",
       "    </tr>\n",
       "    <tr>\n",
       "      <th>225641</th>\n",
       "      <td>466785</td>\n",
       "      <td>-1</td>\n",
       "    </tr>\n",
       "  </tbody>\n",
       "</table>\n",
       "<p>225642 rows × 2 columns</p>\n",
       "</div>"
      ],
      "text/plain": [
       "        enroll_id  truth\n",
       "0             772      1\n",
       "1             773      1\n",
       "2             774      1\n",
       "3             776      0\n",
       "4             777      1\n",
       "...           ...    ...\n",
       "225637     466770     -1\n",
       "225638     466775     -1\n",
       "225639     466777     -1\n",
       "225640     466783     -1\n",
       "225641     466785     -1\n",
       "\n",
       "[225642 rows x 2 columns]"
      ]
     },
     "execution_count": 37,
     "metadata": {},
     "output_type": "execute_result"
    }
   ],
   "source": [
    "user_data[['enroll_id', 'truth']]"
   ]
  }
 ],
 "metadata": {
  "kernelspec": {
   "display_name": "3.10.11",
   "language": "python",
   "name": "python3"
  },
  "language_info": {
   "codemirror_mode": {
    "name": "ipython",
    "version": 3
   },
   "file_extension": ".py",
   "mimetype": "text/x-python",
   "name": "python",
   "nbconvert_exporter": "python",
   "pygments_lexer": "ipython3",
   "version": "3.10.11"
  }
 },
 "nbformat": 4,
 "nbformat_minor": 2
}
