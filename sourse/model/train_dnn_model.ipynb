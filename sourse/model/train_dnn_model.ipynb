{
 "cells": [
  {
   "cell_type": "code",
   "execution_count": 1,
   "metadata": {},
   "outputs": [],
   "source": [
    "import numpy as np\n",
    "import pandas as pd\n",
    "\n",
    "train_data = pd.read_csv(\"train_set.csv\", index_col=None)\n",
    "test_data = pd.read_csv(\"test_set.csv\", index_col=None)\n",
    "\n",
    "X_train = train_data.drop(columns=\"truth\")\n",
    "y_train = train_data[['truth']]\n",
    "\n",
    "X_test = test_data.drop(columns=\"truth\")\n",
    "y_test = test_data[['truth']]\n",
    "\n",
    "X_train.drop(columns=['Unnamed: 0', 'enroll_id'], inplace=True)\n",
    "X_test.drop(columns=['Unnamed: 0', 'enroll_id'], inplace=True)"
   ]
  },
  {
   "cell_type": "code",
   "execution_count": 2,
   "metadata": {},
   "outputs": [],
   "source": [
    "from sklearn.preprocessing import LabelEncoder, StandardScaler\n",
    "\n",
    "\n",
    "# Xác định các cột phân loại và cột số\n",
    "categorical_columns = ['gender', 'education']  # Các cột phân loại\n",
    "numerical_columns = [col for col in X_train.columns if col not in categorical_columns]  # Các cột số\n",
    "\n",
    "# Mã hóa các cột phân loại\n",
    "for col in categorical_columns:\n",
    "    le = LabelEncoder()\n",
    "    X_train[col] = le.fit_transform(X_train[col])\n",
    "\n",
    "for col in categorical_columns:\n",
    "    le = LabelEncoder()\n",
    "    X_test[col] = le.fit_transform(X_test[col])\n",
    "\n",
    "# Chuẩn hóa các cột số\n",
    "scaler = StandardScaler()\n",
    "X_train[numerical_columns] = scaler.fit_transform(X_train[numerical_columns])\n",
    "X_test[numerical_columns] = scaler.fit_transform(X_test[numerical_columns])"
   ]
  },
  {
   "cell_type": "code",
   "execution_count": 3,
   "metadata": {},
   "outputs": [
    {
     "data": {
      "text/plain": [
       "array([0, 4, 1, 2, 3, 5, 6], dtype=int64)"
      ]
     },
     "execution_count": 3,
     "metadata": {},
     "output_type": "execute_result"
    }
   ],
   "source": [
    "X_train['education'].unique()"
   ]
  },
  {
   "cell_type": "code",
   "execution_count": 4,
   "metadata": {},
   "outputs": [
    {
     "data": {
      "text/html": [
       "<pre style=\"white-space:pre;overflow-x:auto;line-height:normal;font-family:Menlo,'DejaVu Sans Mono',consolas,'Courier New',monospace\"><span style=\"font-weight: bold\">Model: \"functional\"</span>\n",
       "</pre>\n"
      ],
      "text/plain": [
       "\u001b[1mModel: \"functional\"\u001b[0m\n"
      ]
     },
     "metadata": {},
     "output_type": "display_data"
    },
    {
     "data": {
      "text/html": [
       "<pre style=\"white-space:pre;overflow-x:auto;line-height:normal;font-family:Menlo,'DejaVu Sans Mono',consolas,'Courier New',monospace\">┏━━━━━━━━━━━━━━━━━━━━━┳━━━━━━━━━━━━━━━━━━━┳━━━━━━━━━━━━┳━━━━━━━━━━━━━━━━━━━┓\n",
       "┃<span style=\"font-weight: bold\"> Layer (type)        </span>┃<span style=\"font-weight: bold\"> Output Shape      </span>┃<span style=\"font-weight: bold\">    Param # </span>┃<span style=\"font-weight: bold\"> Connected to      </span>┃\n",
       "┡━━━━━━━━━━━━━━━━━━━━━╇━━━━━━━━━━━━━━━━━━━╇━━━━━━━━━━━━╇━━━━━━━━━━━━━━━━━━━┩\n",
       "│ gender_input        │ (<span style=\"color: #00d7ff; text-decoration-color: #00d7ff\">None</span>, <span style=\"color: #00af00; text-decoration-color: #00af00\">1</span>)         │          <span style=\"color: #00af00; text-decoration-color: #00af00\">0</span> │ -                 │\n",
       "│ (<span style=\"color: #0087ff; text-decoration-color: #0087ff\">InputLayer</span>)        │                   │            │                   │\n",
       "├─────────────────────┼───────────────────┼────────────┼───────────────────┤\n",
       "│ education_input     │ (<span style=\"color: #00d7ff; text-decoration-color: #00d7ff\">None</span>, <span style=\"color: #00af00; text-decoration-color: #00af00\">1</span>)         │          <span style=\"color: #00af00; text-decoration-color: #00af00\">0</span> │ -                 │\n",
       "│ (<span style=\"color: #0087ff; text-decoration-color: #0087ff\">InputLayer</span>)        │                   │            │                   │\n",
       "├─────────────────────┼───────────────────┼────────────┼───────────────────┤\n",
       "│ embedding           │ (<span style=\"color: #00d7ff; text-decoration-color: #00d7ff\">None</span>, <span style=\"color: #00af00; text-decoration-color: #00af00\">1</span>, <span style=\"color: #00af00; text-decoration-color: #00af00\">2</span>)      │          <span style=\"color: #00af00; text-decoration-color: #00af00\">4</span> │ gender_input[<span style=\"color: #00af00; text-decoration-color: #00af00\">0</span>][<span style=\"color: #00af00; text-decoration-color: #00af00\">…</span> │\n",
       "│ (<span style=\"color: #0087ff; text-decoration-color: #0087ff\">Embedding</span>)         │                   │            │                   │\n",
       "├─────────────────────┼───────────────────┼────────────┼───────────────────┤\n",
       "│ embedding_1         │ (<span style=\"color: #00d7ff; text-decoration-color: #00d7ff\">None</span>, <span style=\"color: #00af00; text-decoration-color: #00af00\">1</span>, <span style=\"color: #00af00; text-decoration-color: #00af00\">7</span>)      │         <span style=\"color: #00af00; text-decoration-color: #00af00\">49</span> │ education_input[<span style=\"color: #00af00; text-decoration-color: #00af00\">…</span> │\n",
       "│ (<span style=\"color: #0087ff; text-decoration-color: #0087ff\">Embedding</span>)         │                   │            │                   │\n",
       "├─────────────────────┼───────────────────┼────────────┼───────────────────┤\n",
       "│ flatten (<span style=\"color: #0087ff; text-decoration-color: #0087ff\">Flatten</span>)   │ (<span style=\"color: #00d7ff; text-decoration-color: #00d7ff\">None</span>, <span style=\"color: #00af00; text-decoration-color: #00af00\">2</span>)         │          <span style=\"color: #00af00; text-decoration-color: #00af00\">0</span> │ embedding[<span style=\"color: #00af00; text-decoration-color: #00af00\">0</span>][<span style=\"color: #00af00; text-decoration-color: #00af00\">0</span>]   │\n",
       "├─────────────────────┼───────────────────┼────────────┼───────────────────┤\n",
       "│ flatten_1 (<span style=\"color: #0087ff; text-decoration-color: #0087ff\">Flatten</span>) │ (<span style=\"color: #00d7ff; text-decoration-color: #00d7ff\">None</span>, <span style=\"color: #00af00; text-decoration-color: #00af00\">7</span>)         │          <span style=\"color: #00af00; text-decoration-color: #00af00\">0</span> │ embedding_1[<span style=\"color: #00af00; text-decoration-color: #00af00\">0</span>][<span style=\"color: #00af00; text-decoration-color: #00af00\">0</span>] │\n",
       "├─────────────────────┼───────────────────┼────────────┼───────────────────┤\n",
       "│ numerical_input     │ (<span style=\"color: #00d7ff; text-decoration-color: #00d7ff\">None</span>, <span style=\"color: #00af00; text-decoration-color: #00af00\">8</span>)         │          <span style=\"color: #00af00; text-decoration-color: #00af00\">0</span> │ -                 │\n",
       "│ (<span style=\"color: #0087ff; text-decoration-color: #0087ff\">InputLayer</span>)        │                   │            │                   │\n",
       "├─────────────────────┼───────────────────┼────────────┼───────────────────┤\n",
       "│ concatenate         │ (<span style=\"color: #00d7ff; text-decoration-color: #00d7ff\">None</span>, <span style=\"color: #00af00; text-decoration-color: #00af00\">17</span>)        │          <span style=\"color: #00af00; text-decoration-color: #00af00\">0</span> │ flatten[<span style=\"color: #00af00; text-decoration-color: #00af00\">0</span>][<span style=\"color: #00af00; text-decoration-color: #00af00\">0</span>],    │\n",
       "│ (<span style=\"color: #0087ff; text-decoration-color: #0087ff\">Concatenate</span>)       │                   │            │ flatten_1[<span style=\"color: #00af00; text-decoration-color: #00af00\">0</span>][<span style=\"color: #00af00; text-decoration-color: #00af00\">0</span>],  │\n",
       "│                     │                   │            │ numerical_input[<span style=\"color: #00af00; text-decoration-color: #00af00\">…</span> │\n",
       "├─────────────────────┼───────────────────┼────────────┼───────────────────┤\n",
       "│ dense (<span style=\"color: #0087ff; text-decoration-color: #0087ff\">Dense</span>)       │ (<span style=\"color: #00d7ff; text-decoration-color: #00d7ff\">None</span>, <span style=\"color: #00af00; text-decoration-color: #00af00\">64</span>)        │      <span style=\"color: #00af00; text-decoration-color: #00af00\">1,152</span> │ concatenate[<span style=\"color: #00af00; text-decoration-color: #00af00\">0</span>][<span style=\"color: #00af00; text-decoration-color: #00af00\">0</span>] │\n",
       "├─────────────────────┼───────────────────┼────────────┼───────────────────┤\n",
       "│ dense_1 (<span style=\"color: #0087ff; text-decoration-color: #0087ff\">Dense</span>)     │ (<span style=\"color: #00d7ff; text-decoration-color: #00d7ff\">None</span>, <span style=\"color: #00af00; text-decoration-color: #00af00\">32</span>)        │      <span style=\"color: #00af00; text-decoration-color: #00af00\">2,080</span> │ dense[<span style=\"color: #00af00; text-decoration-color: #00af00\">0</span>][<span style=\"color: #00af00; text-decoration-color: #00af00\">0</span>]       │\n",
       "├─────────────────────┼───────────────────┼────────────┼───────────────────┤\n",
       "│ dense_2 (<span style=\"color: #0087ff; text-decoration-color: #0087ff\">Dense</span>)     │ (<span style=\"color: #00d7ff; text-decoration-color: #00d7ff\">None</span>, <span style=\"color: #00af00; text-decoration-color: #00af00\">1</span>)         │         <span style=\"color: #00af00; text-decoration-color: #00af00\">33</span> │ dense_1[<span style=\"color: #00af00; text-decoration-color: #00af00\">0</span>][<span style=\"color: #00af00; text-decoration-color: #00af00\">0</span>]     │\n",
       "└─────────────────────┴───────────────────┴────────────┴───────────────────┘\n",
       "</pre>\n"
      ],
      "text/plain": [
       "┏━━━━━━━━━━━━━━━━━━━━━┳━━━━━━━━━━━━━━━━━━━┳━━━━━━━━━━━━┳━━━━━━━━━━━━━━━━━━━┓\n",
       "┃\u001b[1m \u001b[0m\u001b[1mLayer (type)       \u001b[0m\u001b[1m \u001b[0m┃\u001b[1m \u001b[0m\u001b[1mOutput Shape     \u001b[0m\u001b[1m \u001b[0m┃\u001b[1m \u001b[0m\u001b[1m   Param #\u001b[0m\u001b[1m \u001b[0m┃\u001b[1m \u001b[0m\u001b[1mConnected to     \u001b[0m\u001b[1m \u001b[0m┃\n",
       "┡━━━━━━━━━━━━━━━━━━━━━╇━━━━━━━━━━━━━━━━━━━╇━━━━━━━━━━━━╇━━━━━━━━━━━━━━━━━━━┩\n",
       "│ gender_input        │ (\u001b[38;5;45mNone\u001b[0m, \u001b[38;5;34m1\u001b[0m)         │          \u001b[38;5;34m0\u001b[0m │ -                 │\n",
       "│ (\u001b[38;5;33mInputLayer\u001b[0m)        │                   │            │                   │\n",
       "├─────────────────────┼───────────────────┼────────────┼───────────────────┤\n",
       "│ education_input     │ (\u001b[38;5;45mNone\u001b[0m, \u001b[38;5;34m1\u001b[0m)         │          \u001b[38;5;34m0\u001b[0m │ -                 │\n",
       "│ (\u001b[38;5;33mInputLayer\u001b[0m)        │                   │            │                   │\n",
       "├─────────────────────┼───────────────────┼────────────┼───────────────────┤\n",
       "│ embedding           │ (\u001b[38;5;45mNone\u001b[0m, \u001b[38;5;34m1\u001b[0m, \u001b[38;5;34m2\u001b[0m)      │          \u001b[38;5;34m4\u001b[0m │ gender_input[\u001b[38;5;34m0\u001b[0m][\u001b[38;5;34m…\u001b[0m │\n",
       "│ (\u001b[38;5;33mEmbedding\u001b[0m)         │                   │            │                   │\n",
       "├─────────────────────┼───────────────────┼────────────┼───────────────────┤\n",
       "│ embedding_1         │ (\u001b[38;5;45mNone\u001b[0m, \u001b[38;5;34m1\u001b[0m, \u001b[38;5;34m7\u001b[0m)      │         \u001b[38;5;34m49\u001b[0m │ education_input[\u001b[38;5;34m…\u001b[0m │\n",
       "│ (\u001b[38;5;33mEmbedding\u001b[0m)         │                   │            │                   │\n",
       "├─────────────────────┼───────────────────┼────────────┼───────────────────┤\n",
       "│ flatten (\u001b[38;5;33mFlatten\u001b[0m)   │ (\u001b[38;5;45mNone\u001b[0m, \u001b[38;5;34m2\u001b[0m)         │          \u001b[38;5;34m0\u001b[0m │ embedding[\u001b[38;5;34m0\u001b[0m][\u001b[38;5;34m0\u001b[0m]   │\n",
       "├─────────────────────┼───────────────────┼────────────┼───────────────────┤\n",
       "│ flatten_1 (\u001b[38;5;33mFlatten\u001b[0m) │ (\u001b[38;5;45mNone\u001b[0m, \u001b[38;5;34m7\u001b[0m)         │          \u001b[38;5;34m0\u001b[0m │ embedding_1[\u001b[38;5;34m0\u001b[0m][\u001b[38;5;34m0\u001b[0m] │\n",
       "├─────────────────────┼───────────────────┼────────────┼───────────────────┤\n",
       "│ numerical_input     │ (\u001b[38;5;45mNone\u001b[0m, \u001b[38;5;34m8\u001b[0m)         │          \u001b[38;5;34m0\u001b[0m │ -                 │\n",
       "│ (\u001b[38;5;33mInputLayer\u001b[0m)        │                   │            │                   │\n",
       "├─────────────────────┼───────────────────┼────────────┼───────────────────┤\n",
       "│ concatenate         │ (\u001b[38;5;45mNone\u001b[0m, \u001b[38;5;34m17\u001b[0m)        │          \u001b[38;5;34m0\u001b[0m │ flatten[\u001b[38;5;34m0\u001b[0m][\u001b[38;5;34m0\u001b[0m],    │\n",
       "│ (\u001b[38;5;33mConcatenate\u001b[0m)       │                   │            │ flatten_1[\u001b[38;5;34m0\u001b[0m][\u001b[38;5;34m0\u001b[0m],  │\n",
       "│                     │                   │            │ numerical_input[\u001b[38;5;34m…\u001b[0m │\n",
       "├─────────────────────┼───────────────────┼────────────┼───────────────────┤\n",
       "│ dense (\u001b[38;5;33mDense\u001b[0m)       │ (\u001b[38;5;45mNone\u001b[0m, \u001b[38;5;34m64\u001b[0m)        │      \u001b[38;5;34m1,152\u001b[0m │ concatenate[\u001b[38;5;34m0\u001b[0m][\u001b[38;5;34m0\u001b[0m] │\n",
       "├─────────────────────┼───────────────────┼────────────┼───────────────────┤\n",
       "│ dense_1 (\u001b[38;5;33mDense\u001b[0m)     │ (\u001b[38;5;45mNone\u001b[0m, \u001b[38;5;34m32\u001b[0m)        │      \u001b[38;5;34m2,080\u001b[0m │ dense[\u001b[38;5;34m0\u001b[0m][\u001b[38;5;34m0\u001b[0m]       │\n",
       "├─────────────────────┼───────────────────┼────────────┼───────────────────┤\n",
       "│ dense_2 (\u001b[38;5;33mDense\u001b[0m)     │ (\u001b[38;5;45mNone\u001b[0m, \u001b[38;5;34m1\u001b[0m)         │         \u001b[38;5;34m33\u001b[0m │ dense_1[\u001b[38;5;34m0\u001b[0m][\u001b[38;5;34m0\u001b[0m]     │\n",
       "└─────────────────────┴───────────────────┴────────────┴───────────────────┘\n"
      ]
     },
     "metadata": {},
     "output_type": "display_data"
    },
    {
     "data": {
      "text/html": [
       "<pre style=\"white-space:pre;overflow-x:auto;line-height:normal;font-family:Menlo,'DejaVu Sans Mono',consolas,'Courier New',monospace\"><span style=\"font-weight: bold\"> Total params: </span><span style=\"color: #00af00; text-decoration-color: #00af00\">3,318</span> (12.96 KB)\n",
       "</pre>\n"
      ],
      "text/plain": [
       "\u001b[1m Total params: \u001b[0m\u001b[38;5;34m3,318\u001b[0m (12.96 KB)\n"
      ]
     },
     "metadata": {},
     "output_type": "display_data"
    },
    {
     "data": {
      "text/html": [
       "<pre style=\"white-space:pre;overflow-x:auto;line-height:normal;font-family:Menlo,'DejaVu Sans Mono',consolas,'Courier New',monospace\"><span style=\"font-weight: bold\"> Trainable params: </span><span style=\"color: #00af00; text-decoration-color: #00af00\">3,318</span> (12.96 KB)\n",
       "</pre>\n"
      ],
      "text/plain": [
       "\u001b[1m Trainable params: \u001b[0m\u001b[38;5;34m3,318\u001b[0m (12.96 KB)\n"
      ]
     },
     "metadata": {},
     "output_type": "display_data"
    },
    {
     "data": {
      "text/html": [
       "<pre style=\"white-space:pre;overflow-x:auto;line-height:normal;font-family:Menlo,'DejaVu Sans Mono',consolas,'Courier New',monospace\"><span style=\"font-weight: bold\"> Non-trainable params: </span><span style=\"color: #00af00; text-decoration-color: #00af00\">0</span> (0.00 B)\n",
       "</pre>\n"
      ],
      "text/plain": [
       "\u001b[1m Non-trainable params: \u001b[0m\u001b[38;5;34m0\u001b[0m (0.00 B)\n"
      ]
     },
     "metadata": {},
     "output_type": "display_data"
    }
   ],
   "source": [
    "import tensorflow as tf\n",
    "from tensorflow.keras.layers import Input, Embedding, Dense, Flatten, Concatenate\n",
    "from tensorflow.keras.models import Model\n",
    "\n",
    "# Kích thước embedding cho các đặc trưng phân loại\n",
    "embedding_size_gender = 2  \n",
    "embedding_size_education = 7 \n",
    "\n",
    "# Đầu vào cho các đặc trưng phân loại\n",
    "input_gender = Input(shape=(1,), name='gender_input')\n",
    "input_education = Input(shape=(1,), name='education_input')\n",
    "\n",
    "# Embedding layers cho các đặc trưng phân loại\n",
    "embedding_gender = Embedding(input_dim=2, output_dim=embedding_size_gender)(input_gender)\n",
    "embedding_education = Embedding(input_dim=7, output_dim=embedding_size_education)(input_education)\n",
    "\n",
    "# Làm phẳng các vector nhúng\n",
    "flat_gender = Flatten()(embedding_gender)\n",
    "flat_education = Flatten()(embedding_education)\n",
    "\n",
    "# Đầu vào cho các đặc trưng số\n",
    "input_numerical = Input(shape=(len(numerical_columns),), name='numerical_input')\n",
    "\n",
    "# Kết hợp tất cả các đầu vào\n",
    "combined = Concatenate()([flat_gender, flat_education, input_numerical])\n",
    "\n",
    "# Xây dựng DNN\n",
    "x = Dense(64, activation='relu')(combined)\n",
    "x = Dense(32, activation='relu')(x)\n",
    "output = Dense(1, activation='sigmoid')(x)  # Sigmoid cho bài toán nhị phân\n",
    "\n",
    "# Tạo mô hình\n",
    "model = Model(inputs=[input_gender, input_education, input_numerical], outputs=output)\n",
    "\n",
    "# Compile mô hình\n",
    "model.compile(optimizer='adam', loss='binary_crossentropy', metrics=['accuracy'])\n",
    "\n",
    "# In cấu trúc mô hình\n",
    "model.summary()"
   ]
  },
  {
   "cell_type": "code",
   "execution_count": 5,
   "metadata": {},
   "outputs": [
    {
     "data": {
      "text/html": [
       "<div>\n",
       "<style scoped>\n",
       "    .dataframe tbody tr th:only-of-type {\n",
       "        vertical-align: middle;\n",
       "    }\n",
       "\n",
       "    .dataframe tbody tr th {\n",
       "        vertical-align: top;\n",
       "    }\n",
       "\n",
       "    .dataframe thead th {\n",
       "        text-align: right;\n",
       "    }\n",
       "</style>\n",
       "<table border=\"1\" class=\"dataframe\">\n",
       "  <thead>\n",
       "    <tr style=\"text-align: right;\">\n",
       "      <th></th>\n",
       "      <th>age</th>\n",
       "      <th>prev_dropout_num</th>\n",
       "      <th>previous_enroll_num</th>\n",
       "      <th>previous_dropout_user_num</th>\n",
       "      <th>duration</th>\n",
       "      <th>session_num</th>\n",
       "      <th>video_num</th>\n",
       "      <th>courseware_num</th>\n",
       "    </tr>\n",
       "  </thead>\n",
       "  <tbody>\n",
       "    <tr>\n",
       "      <th>0</th>\n",
       "      <td>1.064198</td>\n",
       "      <td>-0.386941</td>\n",
       "      <td>-0.960571</td>\n",
       "      <td>-1.012355</td>\n",
       "      <td>0.162092</td>\n",
       "      <td>-0.484773</td>\n",
       "      <td>-0.124202</td>\n",
       "      <td>-0.440631</td>\n",
       "    </tr>\n",
       "    <tr>\n",
       "      <th>1</th>\n",
       "      <td>0.888556</td>\n",
       "      <td>-0.386941</td>\n",
       "      <td>-0.971948</td>\n",
       "      <td>-1.019790</td>\n",
       "      <td>-0.966892</td>\n",
       "      <td>-0.484773</td>\n",
       "      <td>-0.160236</td>\n",
       "      <td>-0.416798</td>\n",
       "    </tr>\n",
       "    <tr>\n",
       "      <th>2</th>\n",
       "      <td>0.712914</td>\n",
       "      <td>-0.386941</td>\n",
       "      <td>-0.973844</td>\n",
       "      <td>-1.019790</td>\n",
       "      <td>-0.134035</td>\n",
       "      <td>-0.484773</td>\n",
       "      <td>-0.128902</td>\n",
       "      <td>-0.392965</td>\n",
       "    </tr>\n",
       "    <tr>\n",
       "      <th>3</th>\n",
       "      <td>-0.516583</td>\n",
       "      <td>-0.386941</td>\n",
       "      <td>-0.983326</td>\n",
       "      <td>-1.032181</td>\n",
       "      <td>-0.134035</td>\n",
       "      <td>-0.484773</td>\n",
       "      <td>-0.058401</td>\n",
       "      <td>-0.428714</td>\n",
       "    </tr>\n",
       "    <tr>\n",
       "      <th>4</th>\n",
       "      <td>-0.516583</td>\n",
       "      <td>-0.386941</td>\n",
       "      <td>-0.970052</td>\n",
       "      <td>-1.022268</td>\n",
       "      <td>0.162092</td>\n",
       "      <td>-0.484773</td>\n",
       "      <td>-0.161803</td>\n",
       "      <td>-0.440631</td>\n",
       "    </tr>\n",
       "    <tr>\n",
       "      <th>...</th>\n",
       "      <td>...</td>\n",
       "      <td>...</td>\n",
       "      <td>...</td>\n",
       "      <td>...</td>\n",
       "      <td>...</td>\n",
       "      <td>...</td>\n",
       "      <td>...</td>\n",
       "      <td>...</td>\n",
       "    </tr>\n",
       "    <tr>\n",
       "      <th>157938</th>\n",
       "      <td>1.415483</td>\n",
       "      <td>0.195211</td>\n",
       "      <td>-0.283611</td>\n",
       "      <td>-0.211897</td>\n",
       "      <td>-0.892860</td>\n",
       "      <td>1.801034</td>\n",
       "      <td>1.304617</td>\n",
       "      <td>0.524605</td>\n",
       "    </tr>\n",
       "    <tr>\n",
       "      <th>157939</th>\n",
       "      <td>5.630899</td>\n",
       "      <td>3.979200</td>\n",
       "      <td>-0.287403</td>\n",
       "      <td>-0.211897</td>\n",
       "      <td>-0.892860</td>\n",
       "      <td>3.705873</td>\n",
       "      <td>0.410038</td>\n",
       "      <td>1.549423</td>\n",
       "    </tr>\n",
       "    <tr>\n",
       "      <th>157940</th>\n",
       "      <td>0.537271</td>\n",
       "      <td>-0.386941</td>\n",
       "      <td>-0.268441</td>\n",
       "      <td>-0.199506</td>\n",
       "      <td>-0.892860</td>\n",
       "      <td>2.562970</td>\n",
       "      <td>1.287384</td>\n",
       "      <td>5.887026</td>\n",
       "    </tr>\n",
       "    <tr>\n",
       "      <th>157941</th>\n",
       "      <td>0.361629</td>\n",
       "      <td>-0.386941</td>\n",
       "      <td>-0.264648</td>\n",
       "      <td>-0.199506</td>\n",
       "      <td>-0.892860</td>\n",
       "      <td>4.467809</td>\n",
       "      <td>0.408472</td>\n",
       "      <td>3.956554</td>\n",
       "    </tr>\n",
       "    <tr>\n",
       "      <th>157942</th>\n",
       "      <td>-0.165298</td>\n",
       "      <td>-0.095865</td>\n",
       "      <td>-0.266544</td>\n",
       "      <td>-0.199506</td>\n",
       "      <td>-0.892860</td>\n",
       "      <td>0.277162</td>\n",
       "      <td>-0.163369</td>\n",
       "      <td>-0.345299</td>\n",
       "    </tr>\n",
       "  </tbody>\n",
       "</table>\n",
       "<p>157943 rows × 8 columns</p>\n",
       "</div>"
      ],
      "text/plain": [
       "             age  prev_dropout_num  previous_enroll_num  \\\n",
       "0       1.064198         -0.386941            -0.960571   \n",
       "1       0.888556         -0.386941            -0.971948   \n",
       "2       0.712914         -0.386941            -0.973844   \n",
       "3      -0.516583         -0.386941            -0.983326   \n",
       "4      -0.516583         -0.386941            -0.970052   \n",
       "...          ...               ...                  ...   \n",
       "157938  1.415483          0.195211            -0.283611   \n",
       "157939  5.630899          3.979200            -0.287403   \n",
       "157940  0.537271         -0.386941            -0.268441   \n",
       "157941  0.361629         -0.386941            -0.264648   \n",
       "157942 -0.165298         -0.095865            -0.266544   \n",
       "\n",
       "        previous_dropout_user_num  duration  session_num  video_num  \\\n",
       "0                       -1.012355  0.162092    -0.484773  -0.124202   \n",
       "1                       -1.019790 -0.966892    -0.484773  -0.160236   \n",
       "2                       -1.019790 -0.134035    -0.484773  -0.128902   \n",
       "3                       -1.032181 -0.134035    -0.484773  -0.058401   \n",
       "4                       -1.022268  0.162092    -0.484773  -0.161803   \n",
       "...                           ...       ...          ...        ...   \n",
       "157938                  -0.211897 -0.892860     1.801034   1.304617   \n",
       "157939                  -0.211897 -0.892860     3.705873   0.410038   \n",
       "157940                  -0.199506 -0.892860     2.562970   1.287384   \n",
       "157941                  -0.199506 -0.892860     4.467809   0.408472   \n",
       "157942                  -0.199506 -0.892860     0.277162  -0.163369   \n",
       "\n",
       "        courseware_num  \n",
       "0            -0.440631  \n",
       "1            -0.416798  \n",
       "2            -0.392965  \n",
       "3            -0.428714  \n",
       "4            -0.440631  \n",
       "...                ...  \n",
       "157938        0.524605  \n",
       "157939        1.549423  \n",
       "157940        5.887026  \n",
       "157941        3.956554  \n",
       "157942       -0.345299  \n",
       "\n",
       "[157943 rows x 8 columns]"
      ]
     },
     "execution_count": 5,
     "metadata": {},
     "output_type": "execute_result"
    }
   ],
   "source": [
    "X_train[numerical_columns]"
   ]
  },
  {
   "cell_type": "code",
   "execution_count": 7,
   "metadata": {},
   "outputs": [
    {
     "name": "stdout",
     "output_type": "stream",
     "text": [
      "Epoch 1/20\n",
      "\u001b[1m3949/3949\u001b[0m \u001b[32m━━━━━━━━━━━━━━━━━━━━\u001b[0m\u001b[37m\u001b[0m \u001b[1m4s\u001b[0m 898us/step - accuracy: 0.8654 - loss: 0.3369 - val_accuracy: 0.8102 - val_loss: 0.4851\n",
      "Epoch 2/20\n",
      "\u001b[1m3949/3949\u001b[0m \u001b[32m━━━━━━━━━━━━━━━━━━━━\u001b[0m\u001b[37m\u001b[0m \u001b[1m3s\u001b[0m 854us/step - accuracy: 0.8669 - loss: 0.3355 - val_accuracy: 0.8112 - val_loss: 0.4666\n",
      "Epoch 3/20\n",
      "\u001b[1m3949/3949\u001b[0m \u001b[32m━━━━━━━━━━━━━━━━━━━━\u001b[0m\u001b[37m\u001b[0m \u001b[1m3s\u001b[0m 846us/step - accuracy: 0.8661 - loss: 0.3361 - val_accuracy: 0.8088 - val_loss: 0.4973\n",
      "Epoch 4/20\n",
      "\u001b[1m3949/3949\u001b[0m \u001b[32m━━━━━━━━━━━━━━━━━━━━\u001b[0m\u001b[37m\u001b[0m \u001b[1m3s\u001b[0m 816us/step - accuracy: 0.8680 - loss: 0.3339 - val_accuracy: 0.8096 - val_loss: 0.4846\n",
      "Epoch 5/20\n",
      "\u001b[1m3949/3949\u001b[0m \u001b[32m━━━━━━━━━━━━━━━━━━━━\u001b[0m\u001b[37m\u001b[0m \u001b[1m3s\u001b[0m 803us/step - accuracy: 0.8688 - loss: 0.3312 - val_accuracy: 0.8096 - val_loss: 0.4703\n",
      "Epoch 6/20\n",
      "\u001b[1m3949/3949\u001b[0m \u001b[32m━━━━━━━━━━━━━━━━━━━━\u001b[0m\u001b[37m\u001b[0m \u001b[1m3s\u001b[0m 828us/step - accuracy: 0.8674 - loss: 0.3334 - val_accuracy: 0.8099 - val_loss: 0.4805\n",
      "Epoch 7/20\n",
      "\u001b[1m3949/3949\u001b[0m \u001b[32m━━━━━━━━━━━━━━━━━━━━\u001b[0m\u001b[37m\u001b[0m \u001b[1m3s\u001b[0m 815us/step - accuracy: 0.8664 - loss: 0.3356 - val_accuracy: 0.8104 - val_loss: 0.4695\n",
      "Epoch 8/20\n",
      "\u001b[1m3949/3949\u001b[0m \u001b[32m━━━━━━━━━━━━━━━━━━━━\u001b[0m\u001b[37m\u001b[0m \u001b[1m3s\u001b[0m 810us/step - accuracy: 0.8682 - loss: 0.3319 - val_accuracy: 0.8110 - val_loss: 0.4853\n",
      "Epoch 9/20\n",
      "\u001b[1m3949/3949\u001b[0m \u001b[32m━━━━━━━━━━━━━━━━━━━━\u001b[0m\u001b[37m\u001b[0m \u001b[1m3s\u001b[0m 809us/step - accuracy: 0.8677 - loss: 0.3325 - val_accuracy: 0.8108 - val_loss: 0.4844\n",
      "Epoch 10/20\n",
      "\u001b[1m3949/3949\u001b[0m \u001b[32m━━━━━━━━━━━━━━━━━━━━\u001b[0m\u001b[37m\u001b[0m \u001b[1m3s\u001b[0m 809us/step - accuracy: 0.8688 - loss: 0.3339 - val_accuracy: 0.8089 - val_loss: 0.4950\n",
      "Epoch 11/20\n",
      "\u001b[1m3949/3949\u001b[0m \u001b[32m━━━━━━━━━━━━━━━━━━━━\u001b[0m\u001b[37m\u001b[0m \u001b[1m3s\u001b[0m 811us/step - accuracy: 0.8678 - loss: 0.3329 - val_accuracy: 0.8084 - val_loss: 0.4958\n",
      "Epoch 12/20\n",
      "\u001b[1m3949/3949\u001b[0m \u001b[32m━━━━━━━━━━━━━━━━━━━━\u001b[0m\u001b[37m\u001b[0m \u001b[1m3s\u001b[0m 821us/step - accuracy: 0.8694 - loss: 0.3316 - val_accuracy: 0.8110 - val_loss: 0.4874\n",
      "Epoch 13/20\n",
      "\u001b[1m3949/3949\u001b[0m \u001b[32m━━━━━━━━━━━━━━━━━━━━\u001b[0m\u001b[37m\u001b[0m \u001b[1m3s\u001b[0m 818us/step - accuracy: 0.8668 - loss: 0.3337 - val_accuracy: 0.8077 - val_loss: 0.4871\n",
      "Epoch 14/20\n",
      "\u001b[1m3949/3949\u001b[0m \u001b[32m━━━━━━━━━━━━━━━━━━━━\u001b[0m\u001b[37m\u001b[0m \u001b[1m3s\u001b[0m 820us/step - accuracy: 0.8676 - loss: 0.3317 - val_accuracy: 0.8115 - val_loss: 0.4773\n",
      "Epoch 15/20\n",
      "\u001b[1m3949/3949\u001b[0m \u001b[32m━━━━━━━━━━━━━━━━━━━━\u001b[0m\u001b[37m\u001b[0m \u001b[1m3s\u001b[0m 821us/step - accuracy: 0.8665 - loss: 0.3325 - val_accuracy: 0.8103 - val_loss: 0.4840\n",
      "Epoch 16/20\n",
      "\u001b[1m3949/3949\u001b[0m \u001b[32m━━━━━━━━━━━━━━━━━━━━\u001b[0m\u001b[37m\u001b[0m \u001b[1m3s\u001b[0m 818us/step - accuracy: 0.8705 - loss: 0.3278 - val_accuracy: 0.8075 - val_loss: 0.5045\n",
      "Epoch 17/20\n",
      "\u001b[1m3949/3949\u001b[0m \u001b[32m━━━━━━━━━━━━━━━━━━━━\u001b[0m\u001b[37m\u001b[0m \u001b[1m3s\u001b[0m 821us/step - accuracy: 0.8689 - loss: 0.3315 - val_accuracy: 0.8085 - val_loss: 0.4994\n",
      "Epoch 18/20\n",
      "\u001b[1m3949/3949\u001b[0m \u001b[32m━━━━━━━━━━━━━━━━━━━━\u001b[0m\u001b[37m\u001b[0m \u001b[1m3s\u001b[0m 824us/step - accuracy: 0.8687 - loss: 0.3295 - val_accuracy: 0.8099 - val_loss: 0.4926\n",
      "Epoch 19/20\n",
      "\u001b[1m3949/3949\u001b[0m \u001b[32m━━━━━━━━━━━━━━━━━━━━\u001b[0m\u001b[37m\u001b[0m \u001b[1m3s\u001b[0m 822us/step - accuracy: 0.8678 - loss: 0.3323 - val_accuracy: 0.8098 - val_loss: 0.4799\n",
      "Epoch 20/20\n",
      "\u001b[1m3949/3949\u001b[0m \u001b[32m━━━━━━━━━━━━━━━━━━━━\u001b[0m\u001b[37m\u001b[0m \u001b[1m3s\u001b[0m 831us/step - accuracy: 0.8691 - loss: 0.3324 - val_accuracy: 0.8109 - val_loss: 0.4893\n"
     ]
    }
   ],
   "source": [
    "# Huấn luyện mô hình\n",
    "history = model.fit(\n",
    "    [X_train['gender'], X_train['education'], X_train[numerical_columns]],  # Đầu vào\n",
    "    y_train.values.ravel(),  # Nhãn\n",
    "    epochs=20,\n",
    "    batch_size=32,\n",
    "    validation_split=0.2\n",
    ")\n",
    "\n",
    "# Đánh giá mô hình trên tập kiểm tra\n"
   ]
  },
  {
   "cell_type": "code",
   "execution_count": 8,
   "metadata": {},
   "outputs": [
    {
     "name": "stdout",
     "output_type": "stream",
     "text": [
      "\u001b[1m2116/2116\u001b[0m \u001b[32m━━━━━━━━━━━━━━━━━━━━\u001b[0m\u001b[37m\u001b[0m \u001b[1m1s\u001b[0m 596us/step - accuracy: 0.8672 - loss: 0.3370\n",
      "Test Loss, Test Accuracy: [0.371275395154953, 0.8506329655647278]\n"
     ]
    }
   ],
   "source": [
    "results = model.evaluate([X_test['gender'], X_test['education'], X_test[numerical_columns]], y_test.values.ravel())\n",
    "print(\"Test Loss, Test Accuracy:\", results)"
   ]
  }
 ],
 "metadata": {
  "kernelspec": {
   "display_name": "3.10.11",
   "language": "python",
   "name": "python3"
  },
  "language_info": {
   "codemirror_mode": {
    "name": "ipython",
    "version": 3
   },
   "file_extension": ".py",
   "mimetype": "text/x-python",
   "name": "python",
   "nbconvert_exporter": "python",
   "pygments_lexer": "ipython3",
   "version": "3.10.11"
  }
 },
 "nbformat": 4,
 "nbformat_minor": 2
}
